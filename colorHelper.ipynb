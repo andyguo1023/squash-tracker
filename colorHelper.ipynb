{
 "cells": [
  {
   "cell_type": "code",
   "execution_count": null,
   "metadata": {},
   "outputs": [
    {
     "name": "stdout",
     "output_type": "stream",
     "text": [
      "HSV :  [[[24 38 34]]]\n",
      "Red:  34\n",
      "Green:  33\n",
      "Blue:  29\n",
      "BRG Format:  [29 33 34]\n",
      "Coordinates of pixel: X:  206 Y:  409\n",
      "HSV :  [[[ 21 170  30]]]\n",
      "Red:  30\n",
      "Green:  24\n",
      "Blue:  10\n",
      "BRG Format:  [10 24 30]\n",
      "Coordinates of pixel: X:  316 Y:  518\n",
      "HSV :  [[[30 21 48]]]\n",
      "Red:  48\n",
      "Green:  48\n",
      "Blue:  44\n",
      "BRG Format:  [44 48 48]\n",
      "Coordinates of pixel: X:  107 Y:  674\n",
      "HSV :  [[[18 94 27]]]\n",
      "Red:  27\n",
      "Green:  23\n",
      "Blue:  17\n",
      "BRG Format:  [17 23 27]\n",
      "Coordinates of pixel: X:  313 Y:  518\n",
      "HSV :  [[[38 93 22]]]\n",
      "Red:  20\n",
      "Green:  22\n",
      "Blue:  14\n",
      "BRG Format:  [14 22 20]\n",
      "Coordinates of pixel: X:  315 Y:  516\n",
      "HSV :  [[[30 71 25]]]\n",
      "Red:  25\n",
      "Green:  25\n",
      "Blue:  18\n",
      "BRG Format:  [18 25 25]\n",
      "Coordinates of pixel: X:  315 Y:  515\n",
      "HSV :  [[[ 18 101 131]]]\n",
      "Red:  131\n",
      "Green:  110\n",
      "Blue:  79\n",
      "BRG Format:  [ 79 110 131]\n",
      "Coordinates of pixel: X:  318 Y:  516\n"
     ]
    }
   ],
   "source": [
    "import cv2\n",
    "import numpy as np\n",
    " \n",
    " \n",
    "def mouseRGB(event,x,y,flags,param):\n",
    "    if event == cv2.EVENT_LBUTTONDOWN: #checks mouse left button down condition\n",
    "        colorsB = image[y,x,0]\n",
    "        colorsG = image[y,x,1]\n",
    "        colorsR = image[y,x,2]\n",
    "        colors = image[y,x]\n",
    "        hsv_value= np.uint8([[[colorsB ,colorsG,colorsR ]]])\n",
    "        hsv = cv2.cvtColor(hsv_value,cv2.COLOR_BGR2HSV)\n",
    "        print (\"HSV : \" ,hsv)\n",
    "        print(\"Red: \",colorsR)\n",
    "        print(\"Green: \",colorsG)\n",
    "        print(\"Blue: \",colorsB)\n",
    "        print(\"BRG Format: \",colors)\n",
    "        print(\"Coordinates of pixel: X: \",x,\"Y: \",y)\n",
    " \n",
    "# Read an image, a window and bind the function to window\n",
    "image = cv2.imread(\"colorTest.png\") #name of image\n",
    "cv2.namedWindow('mouseRGB')\n",
    "cv2.setMouseCallback('mouseRGB',mouseRGB)\n",
    " \n",
    "#Do until esc pressed\n",
    "while(1):\n",
    "    cv2.imshow('mouseRGB',image)\n",
    "    if cv2.waitKey(20) & 0xFF == 27:\n",
    "        break\n",
    "#if esc pressed, finish.\n",
    "cv2.destroyAllWindows()"
   ]
  },
  {
   "cell_type": "code",
   "execution_count": null,
   "metadata": {},
   "outputs": [],
   "source": []
  }
 ],
 "metadata": {
  "kernelspec": {
   "display_name": "Python 3",
   "language": "python",
   "name": "python3"
  },
  "language_info": {
   "codemirror_mode": {
    "name": "ipython",
    "version": 3
   },
   "file_extension": ".py",
   "mimetype": "text/x-python",
   "name": "python",
   "nbconvert_exporter": "python",
   "pygments_lexer": "ipython3",
   "version": "3.7.4"
  }
 },
 "nbformat": 4,
 "nbformat_minor": 2
}
